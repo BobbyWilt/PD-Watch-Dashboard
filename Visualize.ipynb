{
 "cells": [
  {
   "cell_type": "markdown",
   "id": "54dbc839-e115-4b1c-986e-177b83f135d1",
   "metadata": {},
   "source": [
    "# Imports"
   ]
  },
  {
   "cell_type": "code",
   "execution_count": null,
   "id": "5eeec581-8480-47c1-a82c-465af598c1f8",
   "metadata": {},
   "outputs": [],
   "source": [
    "import matplotlib.pyplot as plt\n",
    "import matplotlib.image as mpimg\n",
    "import seaborn as sns\n",
    "import numpy as np\n",
    "import numpy.matlib\n",
    "import pandas as pd\n",
    "import time\n",
    "import os\n",
    "from os import listdir\n",
    "from os.path import join, isfile\n",
    "\n",
    "!pip install jupyter-dash\n",
    "from jupyter_dash import JupyterDash\n",
    "from dash import html, dcc\n",
    "from dash.dependencies import Input, Output\n",
    "import plotly.express as px\n",
    "import plotly.graph_objects as go\n",
    "import requests\n",
    "import io\n",
    "from plotly.subplots import make_subplots\n",
    "\n",
    "!pip install dash-bootstrap-components\n",
    "import dash\n",
    "import dash_bootstrap_components as dbc"
   ]
  },
  {
   "cell_type": "markdown",
   "id": "e0e9cb29-cfd9-43bf-be11-3e210eb178d3",
   "metadata": {},
   "source": [
    "# Data Processing"
   ]
  },
  {
   "cell_type": "code",
   "execution_count": null,
   "id": "b22a8822-6991-462e-9749-d98cf2fc023a",
   "metadata": {},
   "outputs": [],
   "source": [
    "path = 'https://github.com/BobbyWilt/PD-Watch-Dashboard/raw/main/Data/data/110001/'"
   ]
  },
  {
   "cell_type": "code",
   "execution_count": null,
   "id": "7d9c06a8-d50c-4ad7-9f02-5de027849df8",
   "metadata": {},
   "outputs": [],
   "source": [
    "# test.drop(columns=['Unnamed: 0'], inplace=True)\n",
    "cols = ['left_acc_x', 'left_acc_y', 'left_acc_z',\n",
    "                'left_gyr_x', 'left_gyr_y', 'left_gyr_z',\n",
    "                'right_acc_x', 'right_acc_y', 'right_acc_z',\n",
    "                'right_gyr_x', 'right_gyr_y', 'right_gyr_z',\n",
    "                'chest_acc_x', 'chest_acc_y', 'chest_acc_z',\n",
    "                'chest_gyr_x', 'chest_gyr_y', 'chest_gyr_z'\n",
    "               ]"
   ]
  },
  {
   "cell_type": "code",
   "execution_count": null,
   "id": "5bb49d9a-cd92-4c65-8b5f-97cc3ed9734a",
   "metadata": {},
   "outputs": [],
   "source": [
    "# Loop through files and load csv's into dataframe.  Reset columns and index\n",
    "for i in range(1, 8):\n",
    "    url = path + f'data_segment_{i}.csv'\n",
    "    locals()[f'df{i}'] = pd.read_csv(url)\n",
    "    locals()[f'df{i}'].set_index('time', inplace=True)\n",
    "    locals()[f'df{i}'].columns = cols"
   ]
  },
  {
   "cell_type": "markdown",
   "id": "2b117dda-9166-40b0-800a-1e8f9bdfae99",
   "metadata": {},
   "source": [
    "# Figures"
   ]
  },
  {
   "cell_type": "code",
   "execution_count": null,
   "id": "d57f5fcb-b12c-4106-91a6-1aa6ade4e7a9",
   "metadata": {},
   "outputs": [],
   "source": [
    "# Make loop to make all time-series plots\n",
    "for i in range(1,8):\n",
    "    # Mulit-line plot - separated by sensor\n",
    "    locals()[f'fig{i}'] = make_subplots(rows=6, cols=1, shared_xaxes=True,\n",
    "                                        vertical_spacing=0.06,\n",
    "                                        subplot_titles=[\n",
    "                                            'Accelerometry Left', 'Gyro Left',\n",
    "                                            'Accelerometry Right', 'Gyro Right',\n",
    "                                            'Accelerometry Chest', 'Gyro Chest'])\n",
    "    data = locals()[f'df{i}']\n",
    "    sensor_axis_types = ['acc_x', 'acc_y', 'acc_z',\n",
    "                         'gyr_x', 'gyr_y', 'gyr_z']\n",
    "\n",
    "    count, count_l = 1, 0\n",
    "    # Loop thorugh each sensor\n",
    "    for sens in ['left', 'right', 'chest']:\n",
    "    # Loop through each sensor data type\n",
    "        for d_type in ['acc', 'gyr']:\n",
    "            # loop through each sensor axis\n",
    "            for axis, color in zip(['x', 'y', 'z'],\n",
    "                                   ['MediumSeaGreen', 'SandyBrown', 'DodgerBlue']):\n",
    "                count_l+=1\n",
    "                if count_l > 3:\n",
    "                    legend_vis=False\n",
    "                else:\n",
    "                    legend_vis=True\n",
    "\n",
    "                locals()[f'fig{i}'].add_trace(\n",
    "                    go.Scatter(x=data.index, y=data[f'{sens}_{d_type}_{axis}'],\n",
    "                               marker_color=color, name=f'{axis}-axis', showlegend=legend_vis),\n",
    "                    row=count, col=1)\n",
    "            count += 1\n",
    "\n",
    "    locals()[f'fig{i}'].update_layout(height=1500, width=1500, title_text=f\"Data Segment {i}\")"
   ]
  },
  {
   "cell_type": "code",
   "execution_count": null,
   "id": "4aae9ac7-3447-48c8-888d-9bb830263ac2",
   "metadata": {},
   "outputs": [],
   "source": [
    "quest_url = 'https://raw.githubusercontent.com/BobbyWilt/PD-Watch-Dashboard/main/Data/data/110001/110001_features900.csv'\n",
    "df_quest = pd.read_csv(quest_url)\n",
    "df_quest.head()"
   ]
  },
  {
   "cell_type": "code",
   "execution_count": null,
   "id": "f4fdf269-3e7d-4ce8-9de0-902dde9e53b1",
   "metadata": {},
   "outputs": [],
   "source": [
    "# Patient questionairre questions\n",
    "mood_cats = ['mood_well', 'mood_down', 'mood_fright', 'mood_tense',\n",
    "             'phy_sleepy', 'phy_tired', 'mood_cheerf', 'mood_relax']\n",
    "mood_nams = ['Well', 'Down', 'Frightened', 'Tense', 'Sleepy', 'Tired',\n",
    "             'Cheerful', 'Relaxed']\n",
    "symptom_cats = ['tremor', 'slowness', 'stiffness', 'muscle_tension', 'dyskinesia']\n",
    "functionality_cats = ['act_problemless', 'mobility_well', 'sit_still',\n",
    "                      'speech_well', 'walk_well']\n",
    "functionality_nams = ['Current Activity', 'Mobility Comfort', 'Sit & Stand',\n",
    "                      'Speech', 'Walk']"
   ]
  },
  {
   "cell_type": "code",
   "execution_count": null,
   "id": "57ddebf5-9a98-4b96-be54-3564bbbc192c",
   "metadata": {},
   "outputs": [],
   "source": [
    "# Mood Scatterpolar\n",
    "df_mood = df_quest[mood_cats]\n",
    "fig=go.Figure()\n",
    "fig.add_trace(\n",
    "    go.Scatterpolar(name='mood', r =df_mood.iloc[2], theta = mood_nams,fill='toself',\n",
    "          opacity=0.75 )\n",
    ")\n",
    "fig.update_layout(title='Mood')\n",
    "fig.update_polars(radialaxis_range=(1,7))\n",
    "fig.show()"
   ]
  },
  {
   "cell_type": "code",
   "execution_count": null,
   "id": "b8ba259a-a196-445a-8f0b-42ece7f5a012",
   "metadata": {},
   "outputs": [],
   "source": [
    "# Symptoms - scatter plar\n",
    "df_sympt = df_quest[symptom_cats]\n",
    "fig=go.Figure()\n",
    "fig.add_trace(\n",
    "    go.Scatterpolar(r =df_sympt.iloc[1], theta = symptom_cats, fill='toself',\n",
    "          opacity=0.75 )\n",
    ")\n",
    "fig.update_layout(title='Symptoms')\n",
    "fig.update_polars(radialaxis_range=(1,7))\n",
    "fig.show()"
   ]
  },
  {
   "cell_type": "code",
   "execution_count": null,
   "id": "4d411795-29d9-46f3-a3f9-b407aaed8488",
   "metadata": {},
   "outputs": [],
   "source": [
    "# Functionality - scatter polar\n",
    "df_func = df_quest[functionality_cats]\n",
    "fig=go.Figure()\n",
    "fig.add_trace(\n",
    "    go.Scatterpolar(r =df_func.iloc[1], theta=functionality_nams, fill='toself',\n",
    "          opacity=0.75 )\n",
    ")\n",
    "fig.update_layout(title='Ease of Functionality')\n",
    "fig.update_polars(radialaxis_range=(1,7))\n",
    "fig.show()"
   ]
  },
  {
   "cell_type": "code",
   "execution_count": null,
   "id": "7e4f8cb9-4f73-4932-9853-97e801cf52e5",
   "metadata": {},
   "outputs": [],
   "source": [
    "df_func = df_quest[functionality_cats]\n",
    "fig2=go.Figure()\n",
    "fig2.add_trace(\n",
    "    go.Scatterpolar(r =df_func.iloc[1], theta=functionality_nams, fill='toself',\n",
    "          opacity=0.75 )\n",
    ")\n",
    "fig2.update_layout(title='Ease of Functionality')\n",
    "fig2.update_polars(radialaxis_range=(1,7))\n",
    "fig2.show()"
   ]
  },
  {
   "cell_type": "markdown",
   "id": "c7e729bf-279e-4299-ac74-bbacfa93e742",
   "metadata": {},
   "source": [
    "# Dashboard"
   ]
  },
  {
   "cell_type": "code",
   "execution_count": null,
   "id": "cb058773-ebf7-4f8e-a33b-3155c5950d73",
   "metadata": {},
   "outputs": [],
   "source": [
    "app = JupyterDash(__name__, external_stylesheets=[dbc.themes.BOOTSTRAP])\n",
    "app.layout = dbc.Container([\n",
    "    dbc.Row([\n",
    "        dbc.Col([\n",
    "            html.Div('Data Segment Selector'),\n",
    "            dcc.RadioItems([1 , 2, 3, 4, 5, 6, 7],1, id='data_segment_index'),\n",
    "            dcc.Graph(id='time-series')\n",
    "        ], width=9, lg=4.5\n",
    "        ),\n",
    "        dbc.Col([\n",
    "            dcc.Graph(id='sp_mood'),\n",
    "            dcc.Graph(id='sp_symptom'),\n",
    "            dcc.Graph(id='sp_func')\n",
    "        ], width=3, lg=1.5\n",
    "        )\n",
    "    ], align='start')\n",
    "], fluid=True)\n",
    "\n",
    "@app.callback(\n",
    "    Output('time-series', 'figure'),\n",
    "    Input('data_segment_index', 'value')\n",
    ")\n",
    "def select_time_figure(data_segment_index):\n",
    "    figures = [fig1, fig2, fig3, fig4, fig5, fig6, fig7]\n",
    "    fig_ts = figures[data_segment_index-1]\n",
    "    return fig_ts\n",
    "\n",
    "\n",
    "@app.callback(\n",
    "    Output('sp_mood', 'figure'),\n",
    "    Input('data_segment_index', 'value')\n",
    ")\n",
    "def create_sp_mood(data_segment_index):\n",
    "    fig_sp_m = go.Figure()\n",
    "    fig_sp_m.add_trace(\n",
    "        go.Scatterpolar(name='Mood', r=df_mood.iloc[data_segment_index-1],\n",
    "                        theta=mood_cats,fill='toself', opacity=0.75 )\n",
    "    )\n",
    "    fig_sp_m.update_layout(title='Mood')\n",
    "    fig_sp_m.update_polars(radialaxis_range=(1,7))\n",
    "    return fig_sp_m\n",
    "\n",
    "@app.callback(\n",
    "    Output('sp_symptom', 'figure'),\n",
    "    Input('data_segment_index', 'value')\n",
    ")\n",
    "def create_sp_sympt(data_segment_index):\n",
    "    fig_sp_s=go.Figure()\n",
    "    fig_sp_s.add_trace(\n",
    "        go.Scatterpolar(r =df_sympt.iloc[data_segment_index-1],\n",
    "                        theta=symptom_cats, fill='toself', opacity=0.75 )\n",
    "    )\n",
    "    fig_sp_s.update_layout(title='Symptoms')\n",
    "    fig_sp_s.update_polars(radialaxis_range=(1,7))\n",
    "    return fig_sp_s\n",
    "\n",
    "@app.callback(\n",
    "    Output('sp_func', 'figure'),\n",
    "    Input('data_segment_index', 'value')\n",
    ")\n",
    "def create_sp_f(data_segment_index):\n",
    "    fig=go.Figure()\n",
    "    fig.add_trace(\n",
    "        go.Scatterpolar(r =df_func.iloc[data_segment_index-1],\n",
    "                        theta=functionality_nams, fill='toself', opacity=0.75 )\n",
    "    )\n",
    "    fig.update_layout(title='Ease of Functionality')\n",
    "    fig.update_polars(radialaxis_range=(1,7))\n",
    "    return fig\n",
    "print('Click on the app link below to view the dashboard.')\n",
    "app.run_server()"
   ]
  },
  {
   "cell_type": "code",
   "execution_count": null,
   "id": "3faa594c-a79a-4367-ba70-3f57e8a0c115",
   "metadata": {},
   "outputs": [],
   "source": []
  }
 ],
 "metadata": {
  "kernelspec": {
   "display_name": "Python 3",
   "language": "python",
   "name": "python3"
  },
  "language_info": {
   "codemirror_mode": {
    "name": "ipython",
    "version": 3
   },
   "file_extension": ".py",
   "mimetype": "text/x-python",
   "name": "python",
   "nbconvert_exporter": "python",
   "pygments_lexer": "ipython3",
   "version": "3.8.8"
  }
 },
 "nbformat": 4,
 "nbformat_minor": 5
}
