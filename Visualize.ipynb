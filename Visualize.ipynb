{
 "cells": [
  {
   "cell_type": "markdown",
   "id": "c251f2dc-0c62-486e-be9f-1cc81513ddbb",
   "metadata": {},
   "source": [
    "# Imports"
   ]
  },
  {
   "cell_type": "code",
   "execution_count": 8,
   "id": "1186730e-645e-4d1c-bc0d-4a1c98ea74cc",
   "metadata": {},
   "outputs": [
    {
     "name": "stdout",
     "output_type": "stream",
     "text": [
      "Requirement already satisfied: jupyter-dash in c:\\users\\bobby\\anaconda3\\lib\\site-packages (0.4.2)\n",
      "Requirement already satisfied: ipython in c:\\users\\bobby\\anaconda3\\lib\\site-packages (from jupyter-dash) (7.22.0)\n",
      "Requirement already satisfied: retrying in c:\\users\\bobby\\anaconda3\\lib\\site-packages (from jupyter-dash) (1.3.3)\n",
      "Requirement already satisfied: dash in c:\\users\\bobby\\anaconda3\\lib\\site-packages (from jupyter-dash) (2.3.1)\n",
      "Requirement already satisfied: ipykernel in c:\\users\\bobby\\anaconda3\\lib\\site-packages (from jupyter-dash) (5.3.4)\n",
      "Requirement already satisfied: requests in c:\\users\\bobby\\anaconda3\\lib\\site-packages (from jupyter-dash) (2.25.1)\n",
      "Requirement already satisfied: nest-asyncio in c:\\users\\bobby\\anaconda3\\lib\\site-packages (from jupyter-dash) (1.5.1)\n",
      "Requirement already satisfied: flask in c:\\users\\bobby\\anaconda3\\lib\\site-packages (from jupyter-dash) (1.1.2)\n",
      "Requirement already satisfied: ansi2html in c:\\users\\bobby\\anaconda3\\lib\\site-packages (from jupyter-dash) (1.7.0)\n",
      "Requirement already satisfied: dash-core-components==2.0.0 in c:\\users\\bobby\\anaconda3\\lib\\site-packages (from dash->jupyter-dash) (2.0.0)\n",
      "Requirement already satisfied: dash-html-components==2.0.0 in c:\\users\\bobby\\anaconda3\\lib\\site-packages (from dash->jupyter-dash) (2.0.0)\n",
      "Requirement already satisfied: flask-compress in c:\\users\\bobby\\anaconda3\\lib\\site-packages (from dash->jupyter-dash) (1.11)\n",
      "Requirement already satisfied: plotly>=5.0.0 in c:\\users\\bobby\\anaconda3\\lib\\site-packages (from dash->jupyter-dash) (5.5.0)\n",
      "Requirement already satisfied: dash-table==5.0.0 in c:\\users\\bobby\\anaconda3\\lib\\site-packages (from dash->jupyter-dash) (5.0.0)\n",
      "Requirement already satisfied: click>=5.1 in c:\\users\\bobby\\anaconda3\\lib\\site-packages (from flask->jupyter-dash) (7.1.2)\n",
      "Requirement already satisfied: Werkzeug>=0.15 in c:\\users\\bobby\\anaconda3\\lib\\site-packages (from flask->jupyter-dash) (1.0.1)\n",
      "Requirement already satisfied: itsdangerous>=0.24 in c:\\users\\bobby\\anaconda3\\lib\\site-packages (from flask->jupyter-dash) (1.1.0)\n",
      "Requirement already satisfied: Jinja2>=2.10.1 in c:\\users\\bobby\\anaconda3\\lib\\site-packages (from flask->jupyter-dash) (2.11.3)\n",
      "Requirement already satisfied: MarkupSafe>=0.23 in c:\\users\\bobby\\anaconda3\\lib\\site-packages (from Jinja2>=2.10.1->flask->jupyter-dash) (1.1.1)\n",
      "Requirement already satisfied: tenacity>=6.2.0 in c:\\users\\bobby\\anaconda3\\lib\\site-packages (from plotly>=5.0.0->dash->jupyter-dash) (8.0.1)\n",
      "Requirement already satisfied: six in c:\\users\\bobby\\anaconda3\\lib\\site-packages (from plotly>=5.0.0->dash->jupyter-dash) (1.15.0)\n",
      "Requirement already satisfied: brotli in c:\\users\\bobby\\anaconda3\\lib\\site-packages (from flask-compress->dash->jupyter-dash) (1.0.9)\n",
      "Requirement already satisfied: traitlets>=4.1.0 in c:\\users\\bobby\\anaconda3\\lib\\site-packages (from ipykernel->jupyter-dash) (5.0.5)\n",
      "Requirement already satisfied: tornado>=4.2 in c:\\users\\bobby\\anaconda3\\lib\\site-packages (from ipykernel->jupyter-dash) (6.1)\n",
      "Requirement already satisfied: jupyter-client in c:\\users\\bobby\\anaconda3\\lib\\site-packages (from ipykernel->jupyter-dash) (6.1.12)\n",
      "Requirement already satisfied: decorator in c:\\users\\bobby\\anaconda3\\lib\\site-packages (from ipython->jupyter-dash) (5.0.6)\n",
      "Requirement already satisfied: setuptools>=18.5 in c:\\users\\bobby\\anaconda3\\lib\\site-packages (from ipython->jupyter-dash) (52.0.0.post20210125)\n",
      "Requirement already satisfied: pygments in c:\\users\\bobby\\anaconda3\\lib\\site-packages (from ipython->jupyter-dash) (2.8.1)\n",
      "Requirement already satisfied: pickleshare in c:\\users\\bobby\\anaconda3\\lib\\site-packages (from ipython->jupyter-dash) (0.7.5)\n",
      "Requirement already satisfied: backcall in c:\\users\\bobby\\anaconda3\\lib\\site-packages (from ipython->jupyter-dash) (0.2.0)\n",
      "Requirement already satisfied: prompt-toolkit!=3.0.0,!=3.0.1,<3.1.0,>=2.0.0 in c:\\users\\bobby\\anaconda3\\lib\\site-packages (from ipython->jupyter-dash) (3.0.17)\n",
      "Requirement already satisfied: jedi>=0.16 in c:\\users\\bobby\\anaconda3\\lib\\site-packages (from ipython->jupyter-dash) (0.17.2)\n",
      "Requirement already satisfied: colorama in c:\\users\\bobby\\anaconda3\\lib\\site-packages (from ipython->jupyter-dash) (0.4.4)\n",
      "Requirement already satisfied: parso<0.8.0,>=0.7.0 in c:\\users\\bobby\\anaconda3\\lib\\site-packages (from jedi>=0.16->ipython->jupyter-dash) (0.7.0)\n",
      "Requirement already satisfied: wcwidth in c:\\users\\bobby\\anaconda3\\lib\\site-packages (from prompt-toolkit!=3.0.0,!=3.0.1,<3.1.0,>=2.0.0->ipython->jupyter-dash) (0.2.5)\n",
      "Requirement already satisfied: ipython-genutils in c:\\users\\bobby\\anaconda3\\lib\\site-packages (from traitlets>=4.1.0->ipykernel->jupyter-dash) (0.2.0)\n",
      "Requirement already satisfied: jupyter-core>=4.6.0 in c:\\users\\bobby\\anaconda3\\lib\\site-packages (from jupyter-client->ipykernel->jupyter-dash) (4.7.1)\n",
      "Requirement already satisfied: pyzmq>=13 in c:\\users\\bobby\\anaconda3\\lib\\site-packages (from jupyter-client->ipykernel->jupyter-dash) (20.0.0)\n",
      "Requirement already satisfied: python-dateutil>=2.1 in c:\\users\\bobby\\anaconda3\\lib\\site-packages (from jupyter-client->ipykernel->jupyter-dash) (2.8.1)\n",
      "Requirement already satisfied: pywin32>=1.0 in c:\\users\\bobby\\anaconda3\\lib\\site-packages (from jupyter-core>=4.6.0->jupyter-client->ipykernel->jupyter-dash) (227)\n",
      "Requirement already satisfied: chardet<5,>=3.0.2 in c:\\users\\bobby\\anaconda3\\lib\\site-packages (from requests->jupyter-dash) (4.0.0)\n",
      "Requirement already satisfied: urllib3<1.27,>=1.21.1 in c:\\users\\bobby\\anaconda3\\lib\\site-packages (from requests->jupyter-dash) (1.26.4)\n",
      "Requirement already satisfied: idna<3,>=2.5 in c:\\users\\bobby\\anaconda3\\lib\\site-packages (from requests->jupyter-dash) (2.10)\n",
      "Requirement already satisfied: certifi>=2017.4.17 in c:\\users\\bobby\\anaconda3\\lib\\site-packages (from requests->jupyter-dash) (2020.12.5)\n"
     ]
    }
   ],
   "source": [
    "import matplotlib.pyplot as plt\n",
    "import matplotlib.image as mpimg\n",
    "import seaborn as sns\n",
    "import numpy as np\n",
    "import numpy.matlib\n",
    "import pandas as pd\n",
    "import time\n",
    "import os\n",
    "from os import listdir\n",
    "from os.path import join, isfile\n",
    "\n",
    "!pip install jupyter-dash\n",
    "from jupyter_dash import JupyterDash\n",
    "from dash import html, dcc\n",
    "from dash.dependencies import Input, Output\n",
    "import plotly.express as px\n",
    "import plotly.graph_objects as go\n",
    "import requests\n",
    "import io"
   ]
  },
  {
   "cell_type": "code",
   "execution_count": 4,
   "id": "46ae2c29-256f-4994-802d-b0d06f7b3145",
   "metadata": {},
   "outputs": [],
   "source": [
    "path = r'C:\\Users\\bobby\\Documents\\Github\\PD-Watch-Dashboard\\Data\\data\\110001'"
   ]
  },
  {
   "cell_type": "markdown",
   "id": "ea09f489-7018-4c4b-892f-80ceff0ec6ea",
   "metadata": {},
   "source": [
    "# Data Processing"
   ]
  },
  {
   "cell_type": "code",
   "execution_count": 9,
   "id": "876426c2-0fb2-4c20-bcf3-765aac2720a4",
   "metadata": {},
   "outputs": [
    {
     "ename": "ValueError",
     "evalue": "Cannot load file containing pickled data when allow_pickle=False",
     "output_type": "error",
     "traceback": [
      "\u001b[1;31m---------------------------------------------------------------------------\u001b[0m",
      "\u001b[1;31mValueError\u001b[0m                                Traceback (most recent call last)",
      "\u001b[1;32m<ipython-input-9-1edeb24e1c55>\u001b[0m in \u001b[0;36m<module>\u001b[1;34m\u001b[0m\n\u001b[0;32m      2\u001b[0m \u001b[0mresponse\u001b[0m \u001b[1;33m=\u001b[0m \u001b[0mrequests\u001b[0m\u001b[1;33m.\u001b[0m\u001b[0mget\u001b[0m\u001b[1;33m(\u001b[0m\u001b[0murl\u001b[0m\u001b[1;33m)\u001b[0m\u001b[1;33m\u001b[0m\u001b[1;33m\u001b[0m\u001b[0m\n\u001b[0;32m      3\u001b[0m \u001b[1;31m# response.raise_for_status()\u001b[0m\u001b[1;33m\u001b[0m\u001b[1;33m\u001b[0m\u001b[1;33m\u001b[0m\u001b[0m\n\u001b[1;32m----> 4\u001b[1;33m \u001b[0mdata\u001b[0m \u001b[1;33m=\u001b[0m \u001b[0mnp\u001b[0m\u001b[1;33m.\u001b[0m\u001b[0mload\u001b[0m\u001b[1;33m(\u001b[0m\u001b[0mio\u001b[0m\u001b[1;33m.\u001b[0m\u001b[0mBytesIO\u001b[0m\u001b[1;33m(\u001b[0m\u001b[0mresponse\u001b[0m\u001b[1;33m.\u001b[0m\u001b[0mcontent\u001b[0m\u001b[1;33m)\u001b[0m\u001b[1;33m)\u001b[0m\u001b[1;33m\u001b[0m\u001b[1;33m\u001b[0m\u001b[0m\n\u001b[0m",
      "\u001b[1;32m~\\anaconda3\\lib\\site-packages\\numpy\\lib\\npyio.py\u001b[0m in \u001b[0;36mload\u001b[1;34m(file, mmap_mode, allow_pickle, fix_imports, encoding)\u001b[0m\n\u001b[0;32m    443\u001b[0m             \u001b[1;31m# Try a pickle\u001b[0m\u001b[1;33m\u001b[0m\u001b[1;33m\u001b[0m\u001b[1;33m\u001b[0m\u001b[0m\n\u001b[0;32m    444\u001b[0m             \u001b[1;32mif\u001b[0m \u001b[1;32mnot\u001b[0m \u001b[0mallow_pickle\u001b[0m\u001b[1;33m:\u001b[0m\u001b[1;33m\u001b[0m\u001b[1;33m\u001b[0m\u001b[0m\n\u001b[1;32m--> 445\u001b[1;33m                 raise ValueError(\"Cannot load file containing pickled data \"\n\u001b[0m\u001b[0;32m    446\u001b[0m                                  \"when allow_pickle=False\")\n\u001b[0;32m    447\u001b[0m             \u001b[1;32mtry\u001b[0m\u001b[1;33m:\u001b[0m\u001b[1;33m\u001b[0m\u001b[1;33m\u001b[0m\u001b[0m\n",
      "\u001b[1;31mValueError\u001b[0m: Cannot load file containing pickled data when allow_pickle=False"
     ]
    }
   ],
   "source": [
    "url = 'https://github.com/BobbyWilt/PD-Watch-Dashboard/blob/main/Data/data/110001/110001_trials.npy'\n",
    "url2 = 'https://github.com/BobbyWilt/PD-Watch-Dashboard/raw/main/Data/data/110001/110001_trials.npy'\n",
    "response = requests.get(url)\n",
    "# response.raise_for_status()\n",
    "data = np.load(io.BytesIO(response.content))"
   ]
  },
  {
   "cell_type": "code",
   "execution_count": 12,
   "id": "23a04029-8b33-42d7-9394-173110fb90d9",
   "metadata": {},
   "outputs": [],
   "source": [
    "data = np.load(join(path, '110001' + '_trials.npy')).astype(np.float64)"
   ]
  },
  {
   "cell_type": "code",
   "execution_count": 35,
   "id": "70834561-1b39-4882-aad2-5138127a6fd5",
   "metadata": {},
   "outputs": [],
   "source": [
    "# import csv\n",
    "# np.savetxt(\"data.csv\", data, delimiter=\",\")\n",
    "arr = data\n",
    "# arrReshaped = arr.reshape(arr.shape[0], -1)\n",
    "for i in range(data.shape[0]):\n",
    "    df_temp = pd.DataFrame(data[i])\n",
    "    df_temp.to_csv(f'data_segment_{i+1}.csv')\n",
    "# arrReshaped = data[0]\n",
    "# test = pd.DataFrame(arrReshaped)\n",
    "# saving reshaped array to file.\n",
    "# np.savetxt('data.csv', arrReshaped)\n",
    "# test.to_csv('test' + '.csv')"
   ]
  },
  {
   "cell_type": "markdown",
   "id": "0fe0b805-bb1f-4865-a6b9-9833a318c1ed",
   "metadata": {},
   "source": [
    "# Figures"
   ]
  },
  {
   "cell_type": "code",
   "execution_count": null,
   "id": "c2318856-9424-4ad9-a402-f14e1fdb249e",
   "metadata": {},
   "outputs": [],
   "source": []
  },
  {
   "cell_type": "markdown",
   "id": "44085e3b-3955-44df-b3d0-72dc980c027d",
   "metadata": {},
   "source": [
    "# Dashboard"
   ]
  },
  {
   "cell_type": "code",
   "execution_count": null,
   "id": "012b3f48-6171-4ac8-bef8-d0ea43abdd1d",
   "metadata": {},
   "outputs": [],
   "source": [
    "# Build App\n",
    "df = px.data.tips()\n",
    "app = JupyterDash(__name__)\n",
    "app.layout = html.Div([\n",
    "    html.H1(\"JupyterDash Demo\"),\n",
    "    dcc.Graph(id='graph'),\n",
    "    html.Label([\n",
    "        \"colorscale\",\n",
    "        dcc.Dropdown(\n",
    "            id='colorscale-dropdown', clearable=False,\n",
    "            value='plasma', options=[\n",
    "                {'label': c, 'value': c}\n",
    "                for c in px.colors.named_colorscales()\n",
    "            ])\n",
    "    ]),\n",
    "])# Define callback to update graph\n",
    "@app.callback(\n",
    "    Output('graph', 'figure'),\n",
    "    [Input(\"colorscale-dropdown\", \"value\")]\n",
    ")\n",
    "def update_figure(colorscale):\n",
    "    return px.scatter(\n",
    "        df, x=\"total_bill\", y=\"tip\", color=\"size\",\n",
    "        color_continuous_scale=colorscale,\n",
    "        render_mode=\"webgl\", title=\"Tips\"\n",
    "    )# Run app and display result inline in the notebook\n",
    "app.run_server(mode='external')"
   ]
  }
 ],
 "metadata": {
  "kernelspec": {
   "display_name": "Python 3",
   "language": "python",
   "name": "python3"
  },
  "language_info": {
   "codemirror_mode": {
    "name": "ipython",
    "version": 3
   },
   "file_extension": ".py",
   "mimetype": "text/x-python",
   "name": "python",
   "nbconvert_exporter": "python",
   "pygments_lexer": "ipython3",
   "version": "3.8.8"
  }
 },
 "nbformat": 4,
 "nbformat_minor": 5
}
