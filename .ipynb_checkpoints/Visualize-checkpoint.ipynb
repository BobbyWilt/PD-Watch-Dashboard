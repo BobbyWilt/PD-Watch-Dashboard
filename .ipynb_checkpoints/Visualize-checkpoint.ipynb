{
 "cells": [
  {
   "cell_type": "markdown",
   "id": "54dbc839-e115-4b1c-986e-177b83f135d1",
   "metadata": {},
   "source": [
    "# Imports"
   ]
  },
  {
   "cell_type": "code",
   "execution_count": null,
   "id": "5eeec581-8480-47c1-a82c-465af598c1f8",
   "metadata": {},
   "outputs": [],
   "source": [
    "import matplotlib.pyplot as plt\n",
    "import matplotlib.image as mpimg\n",
    "import seaborn as sns\n",
    "import numpy as np\n",
    "import numpy.matlib\n",
    "import pandas as pd\n",
    "import time\n",
    "import os\n",
    "from os import listdir\n",
    "from os.path import join, isfile\n",
    "\n",
    "!pip install jupyter-dash\n",
    "from jupyter_dash import JupyterDash\n",
    "from dash import html, dcc\n",
    "from dash.dependencies import Input, Output\n",
    "import plotly.express as px\n",
    "import plotly.graph_objects as go\n",
    "import requests\n",
    "import io\n",
    "from plotly.subplots import make_subplots"
   ]
  },
  {
   "cell_type": "markdown",
   "id": "e0e9cb29-cfd9-43bf-be11-3e210eb178d3",
   "metadata": {},
   "source": [
    "# Data Processing"
   ]
  },
  {
   "cell_type": "code",
   "execution_count": null,
   "id": "b22a8822-6991-462e-9749-d98cf2fc023a",
   "metadata": {},
   "outputs": [],
   "source": [
    "path = r'C:\\Users\\bobby\\Documents\\Github\\PD-Watch-Dashboard\\Data\\data\\110001'"
   ]
  },
  {
   "cell_type": "code",
   "execution_count": null,
   "id": "0879ab19-f046-4333-bd79-11c079b55fe4",
   "metadata": {},
   "outputs": [],
   "source": [
    "url = 'https://github.com/BobbyWilt/PD-Watch-Dashboard/raw/main/Data/data/110001/data_segment_1.csv'\n",
    "test = pd.read_csv(url)"
   ]
  },
  {
   "cell_type": "code",
   "execution_count": null,
   "id": "7d9c06a8-d50c-4ad7-9f02-5de027849df8",
   "metadata": {},
   "outputs": [],
   "source": [
    "# test.drop(columns=['Unnamed: 0'], inplace=True)\n",
    "cols = ['left_acc_x', 'left_acc_y', 'left_acc_z',\n",
    "                'left_gyr_x', 'left_gyr_y', 'left_gyr_z',\n",
    "                'right_acc_x', 'right_acc_y', 'right_acc_z',\n",
    "                'right_gyr_x', 'right_gyr_y', 'right_gyr_z',\n",
    "                'chest_acc_x', 'chest_acc_y', 'chest_acc_z',\n",
    "                'chest_gyr_x', 'chest_gyr_y', 'chest_gyr_z'\n",
    "               ]"
   ]
  },
  {
   "cell_type": "code",
   "execution_count": null,
   "id": "5bb49d9a-cd92-4c65-8b5f-97cc3ed9734a",
   "metadata": {},
   "outputs": [],
   "source": [
    "# Loop through files and load csv's into dataframe.  Reset columns and index\n",
    "for i in range(1, 8):\n",
    "    locals()[f'df{i}'] = pd.read_csv(os.path.join(path,f'data_segment_{i}.csv'))\n",
    "    locals()[f'df{i}'].set_index('time', inplace=True)\n",
    "    locals()[f'df{i}'].columns = cols"
   ]
  },
  {
   "cell_type": "markdown",
   "id": "2b117dda-9166-40b0-800a-1e8f9bdfae99",
   "metadata": {},
   "source": [
    "# Figures"
   ]
  },
  {
   "cell_type": "code",
   "execution_count": null,
   "id": "8e6ad496-33d2-4b89-9f55-71f01525cdb8",
   "metadata": {},
   "outputs": [],
   "source": [
    "# Simple line plot\n",
    "fig = px.line(df1[['left_acc_x', 'left_acc_y', 'left_acc_z']])\n",
    "fig.show()"
   ]
  },
  {
   "cell_type": "code",
   "execution_count": null,
   "id": "81f2f5e4-8597-4939-828a-9fada2fbeab3",
   "metadata": {},
   "outputs": [],
   "source": [
    "# multi-line plot - separated by axis\n",
    "fig = make_subplots(rows=6, cols=1, shared_xaxes=True,\n",
    "                    vertical_spacing=0.06,\n",
    "                   subplot_titles=['Accelerometry X-axis','Accelerometry Y-axis', 'Accelerometry Z-axis',\n",
    "                                  'Gyro X-axis','Gyro Y-axis', 'Gyro Z-axis'])\n",
    "data = df1\n",
    "sensor_axis_types = ['acc_x', 'acc_y', 'acc_z',\n",
    "                     'gyr_x', 'gyr_y', 'gyr_z']\n",
    "# Loop through each sensor axis\n",
    "for i, axis in zip(range(1,7), sensor_axis_types):\n",
    "    # Loop thorugh each sensor\n",
    "    for sens in ['left', 'right', 'chest']:\n",
    "        fig.add_trace(\n",
    "        go.Scatter(x=data.index, y=data[f'{sens}_{axis}'], name=sens),\n",
    "        row=i, col=1)\n",
    "\n",
    "fig.update_layout(height=1200, width=800, title_text=\"Data Segment 1\")\n",
    "fig.show()"
   ]
  },
  {
   "cell_type": "code",
   "execution_count": null,
   "id": "0a802412-f323-4179-acbc-57dfc734e585",
   "metadata": {},
   "outputs": [],
   "source": [
    "# Mulit-line plot - separated by sensor\n",
    "fig = make_subplots(rows=6, cols=1, shared_xaxes=True,\n",
    "                    vertical_spacing=0.06,\n",
    "                   subplot_titles=['Accelerometry Left', 'Gyro Left',\n",
    "                                   'Accelerometry Right', 'Gyro Right',\n",
    "                                  'Accelerometry Chest', 'Gyro Chest'])\n",
    "data = df1\n",
    "sensor_axis_types = ['acc_x', 'acc_y', 'acc_z',\n",
    "                     'gyr_x', 'gyr_y', 'gyr_z']\n",
    "\n",
    "count = 1\n",
    "# Loop thorugh each sensor\n",
    "for sens in ['left', 'right', 'chest']:\n",
    "# Loop through each sensor data type\n",
    "    for d_type in ['acc', 'gyr']:\n",
    "        # loop through each sensor axis\n",
    "        for axis in ['x', 'y', 'z']:\n",
    "             fig.add_trace(\n",
    "                go.Scatter(x=data.index, y=data[f'{sens}_{d_type}_{axis}'], name=sens),\n",
    "                row=count, col=1)\n",
    "    \n",
    "        count+=1\n",
    "    \n",
    "    \n",
    "       \n",
    "\n",
    "fig.update_layout(height=1200, width=800, title_text=\"Data Segment 1 Data\")\n",
    "fig.show()"
   ]
  },
  {
   "cell_type": "code",
   "execution_count": null,
   "id": "38aea0d7-9541-4c9d-8f45-3e2dea3ad77c",
   "metadata": {},
   "outputs": [],
   "source": [
    "fig = px.line(test)\n",
    "fig.show()"
   ]
  },
  {
   "cell_type": "markdown",
   "id": "c7e729bf-279e-4299-ac74-bbacfa93e742",
   "metadata": {},
   "source": [
    "# Dashboard"
   ]
  },
  {
   "cell_type": "code",
   "execution_count": null,
   "id": "8ef38d86-71ce-4805-9b27-24e7962e53ac",
   "metadata": {},
   "outputs": [],
   "source": [
    "# Build App\n",
    "df = px.data.tips()\n",
    "app = JupyterDash(__name__)\n",
    "app.layout = html.Div([\n",
    "    html.H1(\"JupyterDash Demo\"),\n",
    "    dcc.Graph(id='graph'),\n",
    "    html.Label([\n",
    "        \"colorscale\",\n",
    "        dcc.Dropdown(\n",
    "            id='colorscale-dropdown', clearable=False,\n",
    "            value='plasma', options=[\n",
    "                {'label': c, 'value': c}\n",
    "                for c in px.colors.named_colorscales()\n",
    "            ])\n",
    "    ]),\n",
    "])# Define callback to update graph\n",
    "@app.callback(\n",
    "    Output('graph', 'figure'),\n",
    "    [Input(\"colorscale-dropdown\", \"value\")]\n",
    ")\n",
    "def update_figure(colorscale):\n",
    "    return px.scatter(\n",
    "        df, x=\"total_bill\", y=\"tip\", color=\"size\",\n",
    "        color_continuous_scale=colorscale,\n",
    "        render_mode=\"webgl\", title=\"Tips\"\n",
    "    )# Run app and display result inline in the notebook\n",
    "app.run_server(mode='external')"
   ]
  }
 ],
 "metadata": {
  "kernelspec": {
   "display_name": "Python 3",
   "language": "python",
   "name": "python3"
  },
  "language_info": {
   "codemirror_mode": {
    "name": "ipython",
    "version": 3
   },
   "file_extension": ".py",
   "mimetype": "text/x-python",
   "name": "python",
   "nbconvert_exporter": "python",
   "pygments_lexer": "ipython3",
   "version": "3.8.8"
  }
 },
 "nbformat": 4,
 "nbformat_minor": 5
}
