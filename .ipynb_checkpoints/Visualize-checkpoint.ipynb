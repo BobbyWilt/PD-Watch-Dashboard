{
 "cells": [
  {
   "cell_type": "markdown",
   "id": "54dbc839-e115-4b1c-986e-177b83f135d1",
   "metadata": {},
   "source": [
    "# Imports"
   ]
  },
  {
   "cell_type": "code",
   "execution_count": null,
   "id": "5eeec581-8480-47c1-a82c-465af598c1f8",
   "metadata": {},
   "outputs": [],
   "source": [
    "import matplotlib.pyplot as plt\n",
    "import matplotlib.image as mpimg\n",
    "import seaborn as sns\n",
    "import numpy as np\n",
    "import numpy.matlib\n",
    "import pandas as pd\n",
    "import time\n",
    "import os\n",
    "from os import listdir\n",
    "from os.path import join, isfile\n",
    "\n",
    "!pip install jupyter-dash\n",
    "from jupyter_dash import JupyterDash\n",
    "from dash import html, dcc\n",
    "from dash.dependencies import Input, Output\n",
    "import plotly.express as px\n",
    "import plotly.graph_objects as go\n",
    "import requests\n",
    "import io"
   ]
  },
  {
   "cell_type": "markdown",
   "id": "e0e9cb29-cfd9-43bf-be11-3e210eb178d3",
   "metadata": {},
   "source": [
    "# Data Processing"
   ]
  },
  {
   "cell_type": "code",
   "execution_count": null,
   "id": "b22a8822-6991-462e-9749-d98cf2fc023a",
   "metadata": {},
   "outputs": [],
   "source": [
    "path = r'C:\\Users\\bobby\\Documents\\Github\\PD-Watch-Dashboard\\Data\\data\\110001'"
   ]
  },
  {
   "cell_type": "code",
   "execution_count": null,
   "id": "0879ab19-f046-4333-bd79-11c079b55fe4",
   "metadata": {},
   "outputs": [],
   "source": [
    "url = 'https://github.com/BobbyWilt/PD-Watch-Dashboard/raw/main/Data/data/110001/data_segment_1.csv'\n",
    "test = pd.read_csv(url)"
   ]
  },
  {
   "cell_type": "code",
   "execution_count": null,
   "id": "7d9c06a8-d50c-4ad7-9f02-5de027849df8",
   "metadata": {},
   "outputs": [],
   "source": [
    "test.columns\n",
    "# test.drop(columns=['Unnamed: 0'], inplace=True)\n",
    "test.columns = ['left_acc_x', 'left_acc_y', 'left_acc_z',\n",
    "                'left_gyr_x', 'left_gyr_y', 'left_gyr_z',\n",
    "                'right_acc_x', 'right_acc_y', 'right_acc_z',\n",
    "                'right_gyr_x', 'right_gyr_y', 'right_gyr_z',\n",
    "                'chest_acc_x', 'chest_acc_y', 'chest_acc_z',\n",
    "                'chest_gyr_x', 'chest_gyr_y', 'chest_gyr_z'\n",
    "               ]\n",
    "test.head()"
   ]
  },
  {
   "cell_type": "markdown",
   "id": "2b117dda-9166-40b0-800a-1e8f9bdfae99",
   "metadata": {},
   "source": [
    "# Figures"
   ]
  },
  {
   "cell_type": "code",
   "execution_count": null,
   "id": "8e6ad496-33d2-4b89-9f55-71f01525cdb8",
   "metadata": {},
   "outputs": [],
   "source": [
    "fig = px.line(test[['left_acc_x', 'left_acc_y', 'left_acc_z']])\n",
    "fig.show()"
   ]
  },
  {
   "cell_type": "code",
   "execution_count": null,
   "id": "38aea0d7-9541-4c9d-8f45-3e2dea3ad77c",
   "metadata": {},
   "outputs": [],
   "source": [
    "fig = px.line(test)\n",
    "fig.show()"
   ]
  },
  {
   "cell_type": "markdown",
   "id": "c7e729bf-279e-4299-ac74-bbacfa93e742",
   "metadata": {},
   "source": [
    "# Dashboard"
   ]
  },
  {
   "cell_type": "code",
   "execution_count": null,
   "id": "8ef38d86-71ce-4805-9b27-24e7962e53ac",
   "metadata": {},
   "outputs": [],
   "source": [
    "# Build App\n",
    "df = px.data.tips()\n",
    "app = JupyterDash(__name__)\n",
    "app.layout = html.Div([\n",
    "    html.H1(\"JupyterDash Demo\"),\n",
    "    dcc.Graph(id='graph'),\n",
    "    html.Label([\n",
    "        \"colorscale\",\n",
    "        dcc.Dropdown(\n",
    "            id='colorscale-dropdown', clearable=False,\n",
    "            value='plasma', options=[\n",
    "                {'label': c, 'value': c}\n",
    "                for c in px.colors.named_colorscales()\n",
    "            ])\n",
    "    ]),\n",
    "])# Define callback to update graph\n",
    "@app.callback(\n",
    "    Output('graph', 'figure'),\n",
    "    [Input(\"colorscale-dropdown\", \"value\")]\n",
    ")\n",
    "def update_figure(colorscale):\n",
    "    return px.scatter(\n",
    "        df, x=\"total_bill\", y=\"tip\", color=\"size\",\n",
    "        color_continuous_scale=colorscale,\n",
    "        render_mode=\"webgl\", title=\"Tips\"\n",
    "    )# Run app and display result inline in the notebook\n",
    "app.run_server(mode='external')"
   ]
  }
 ],
 "metadata": {
  "kernelspec": {
   "display_name": "Python 3",
   "language": "python",
   "name": "python3"
  },
  "language_info": {
   "codemirror_mode": {
    "name": "ipython",
    "version": 3
   },
   "file_extension": ".py",
   "mimetype": "text/x-python",
   "name": "python",
   "nbconvert_exporter": "python",
   "pygments_lexer": "ipython3",
   "version": "3.8.8"
  }
 },
 "nbformat": 4,
 "nbformat_minor": 5
}
